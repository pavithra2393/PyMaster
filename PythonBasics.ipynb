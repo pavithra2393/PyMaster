{
 "cells": [
  {
   "cell_type": "markdown",
   "metadata": {},
   "source": [
    "# Let us begin by creating our first program \"Hello World!\"\n",
    "\n",
    "Note: In Jupyter NoteBook,We can markdown a cell to enter comments Or use '#' before the line to comment a line in a code cell."
   ]
  },
  {
   "cell_type": "code",
   "execution_count": 27,
   "metadata": {},
   "outputs": [
    {
     "name": "stdout",
     "output_type": "stream",
     "text": [
      "Hello World!\n"
     ]
    }
   ],
   "source": [
    "print(\"Hello World!\")\n",
    "    #Note: Python is case sensitive and hence extra care required to avoid errors.\n",
    "    #Shift+Enter to execute a cell or use the run button above."
   ]
  },
  {
   "cell_type": "markdown",
   "metadata": {},
   "source": [
    "# Indentation: \n",
    "\n",
    "Python uses indentation for blocks. Any mistake in indentation will not give us the correct output. Let's see an example for indentation."
   ]
  },
  {
   "cell_type": "code",
   "execution_count": 28,
   "metadata": {},
   "outputs": [
    {
     "name": "stdout",
     "output_type": "stream",
     "text": [
      "Enter a number:\n",
      "Please enter only a number\n",
      "Enter a number:23\n",
      "x is an odd number\n"
     ]
    }
   ],
   "source": [
    "while True:\n",
    "    try:\n",
    "        x=int(input(\"Enter a number:\"))\n",
    "    except ValueError:\n",
    "        print(\"Please enter only a number\")\n",
    "        continue\n",
    "    else:\n",
    "        break\n",
    "if x%2==0:\n",
    "    print('x is an even number')\n",
    "else:\n",
    "    print('x is an odd number')\n",
    "\n",
    "#change the indentation in the above code to check different errors."
   ]
  },
  {
   "cell_type": "markdown",
   "metadata": {},
   "source": [
    "# Variables:"
   ]
  },
  {
   "cell_type": "markdown",
   "metadata": {},
   "source": [
    "Variable can be considered as a named location to store data whose value can be changed at time during programming.\n",
    "Python allows us to assign a value to multiple variables in a single statement which is also known as multiple assignment."
   ]
  },
  {
   "cell_type": "markdown",
   "metadata": {},
   "source": [
    "## Local and Global Variables:\n",
    "\n",
    "Global Variable : A global variable can be used anywhere throughout the program.\n",
    "Local Variable : The scope of local variable will be destroyed once the program executes that particular block where a local variable is defined."
   ]
  },
  {
   "cell_type": "code",
   "execution_count": 29,
   "metadata": {},
   "outputs": [
    {
     "name": "stdout",
     "output_type": "stream",
     "text": [
      "101\n",
      "I am learning Python\n",
      "101\n"
     ]
    }
   ],
   "source": [
    "# Declare a variable and initialize it\n",
    "x = 101\n",
    "print(x)\n",
    "\n",
    "# Global vs. local variables in functions\n",
    "def MyFunc():\n",
    "    x = 'I am learning Python'\n",
    "    print(x)\n",
    "MyFunc()  #If we don't call the defined function, this block will not execute.\n",
    "\n",
    "print(x)"
   ]
  },
  {
   "cell_type": "markdown",
   "metadata": {},
   "source": [
    "#  DataTypes:"
   ]
  },
  {
   "cell_type": "markdown",
   "metadata": {},
   "source": [
    "Variables can hold values of different data types. Use the type() function to check the type of the variable passed.\n",
    "Some of the standard datatypes are:\n",
    "    - Intergers\n",
    "    - Floats\n",
    "    - Complex Numbers\n",
    "    - Strings\n",
    "    - Boolean"
   ]
  },
  {
   "cell_type": "code",
   "execution_count": 30,
   "metadata": {},
   "outputs": [
    {
     "name": "stdout",
     "output_type": "stream",
     "text": [
      "10\n",
      "16\n",
      "8\n",
      "2\n"
     ]
    }
   ],
   "source": [
    "# Integers:\n",
    "print(10)\n",
    "print(0x10) #Hexa Decimal\n",
    "print(0o10) #Octal\n",
    "print(0b10) #Binary"
   ]
  },
  {
   "cell_type": "code",
   "execution_count": 31,
   "metadata": {},
   "outputs": [
    {
     "name": "stdout",
     "output_type": "stream",
     "text": [
      "4.2\n",
      "4000000.0\n",
      "0.00042\n",
      "1.79e+308\n",
      "inf\n"
     ]
    }
   ],
   "source": [
    "# Floats:\n",
    "print(4.2)\n",
    "print(.4e7)\n",
    "print(4.2e-4)\n",
    "print(1.79e308)\n",
    "print(1.8e308)"
   ]
  },
  {
   "cell_type": "code",
   "execution_count": 32,
   "metadata": {},
   "outputs": [
    {
     "name": "stdout",
     "output_type": "stream",
     "text": [
      "(2+3j)\n"
     ]
    },
    {
     "data": {
      "text/plain": [
       "complex"
      ]
     },
     "execution_count": 32,
     "metadata": {},
     "output_type": "execute_result"
    }
   ],
   "source": [
    "# Complex Numbers:\n",
    "print(2+3j)\n",
    "type(2+3j)"
   ]
  },
  {
   "cell_type": "code",
   "execution_count": 33,
   "metadata": {},
   "outputs": [
    {
     "name": "stdout",
     "output_type": "stream",
     "text": [
      "a... b... c\n",
      "foo\\bar\n",
      "foo\tbar\n",
      "aaa\n",
      "a\n",
      "b\n",
      "→ →\n",
      "foo\\\\bar\n",
      "foo\\nbar\n"
     ]
    }
   ],
   "source": [
    "#Strings:\n",
    "print('a\\\n",
    "... b\\\n",
    "... c')\n",
    "print('foo\\\\bar')\n",
    "print('foo\\tbar') #tab\n",
    "print(\"a\\141\\x61\") \n",
    "print(\"a\\nb\") #new line\n",
    "print('\\u2192 \\N{rightwards arrow}')\n",
    "\n",
    "#Raw Strings - Print as such\n",
    "print(R'foo\\\\bar')\n",
    "print(r'foo\\nbar')"
   ]
  },
  {
   "cell_type": "code",
   "execution_count": 34,
   "metadata": {},
   "outputs": [
    {
     "data": {
      "text/plain": [
       "bool"
      ]
     },
     "execution_count": 34,
     "metadata": {},
     "output_type": "execute_result"
    }
   ],
   "source": [
    "# Booleans\n",
    "type(True)\n",
    "type(False)"
   ]
  },
  {
   "cell_type": "markdown",
   "metadata": {},
   "source": [
    "# In-Built functions:"
   ]
  },
  {
   "cell_type": "markdown",
   "metadata": {},
   "source": [
    "# Math\n",
    "\n",
    "<img src=\"In-BuiltFunctions.PNG\">"
   ]
  },
  {
   "cell_type": "markdown",
   "metadata": {},
   "source": [
    "# Type Conversion\n",
    "\n",
    "<img src=\"TypeConversions.PNG\">"
   ]
  },
  {
   "cell_type": "markdown",
   "metadata": {},
   "source": [
    "# Iterables and Iterators\n",
    "\n",
    "<img src=\"Iterables.PNG\">"
   ]
  },
  {
   "cell_type": "markdown",
   "metadata": {},
   "source": [
    "# Input and Output\n",
    "\n",
    "<img src=\"IOFunctions.PNG\">"
   ]
  },
  {
   "cell_type": "markdown",
   "metadata": {},
   "source": [
    "# Composite Data Type\n",
    "\n",
    "<img src=\"Composite.PNG\">"
   ]
  },
  {
   "cell_type": "markdown",
   "metadata": {},
   "source": [
    "#### Keywords:\n",
    "Python Keywords are special reserved words which convey a special meaning to the compiler/interpreter. Each keyword have a special meaning and a specific operation. These keywords can't be used as variable.\n"
   ]
  },
  {
   "cell_type": "markdown",
   "metadata": {},
   "source": [
    "#### Literals: \n",
    "Literals can be defined as the data assigned to a variable or constant."
   ]
  },
  {
   "cell_type": "markdown",
   "metadata": {},
   "source": [
    "#### Operators:\n",
    "The operator can be defined as a symbol which is responsible for a particular operation between two operands. Operators are the pillars of a program on which the logic is built in a particular programming language. Python provides a variety of operators described as follows.\n",
    "\n",
    "   - Arithmetic operators : Arithmetic operators are used to perform arithmetic operations between two operands. It includes +(addition), - (subtraction), *(multiplication), /(divide), %(reminder), //(floor division), and exponent (**).\n",
    "   \n",
    "   \n",
    "   - Comparison operators : Comparison operators are used to comparing the value of the two operands and returns boolean true or false accordingly. \n",
    "   \n",
    "   \n",
    "   - Assignment Operators : The assignment operators are used to assign the value of the right expression to the left operand.\n",
    "   \n",
    "   \n",
    "   - Logical Operators : The logical operators are used primarily in the expression evaluation to make a decision.\n",
    "   \n",
    "   \n",
    "   - Bitwise Operators : The bitwise operators perform bit by bit operation on the values of the two operands.\n",
    "   \n",
    "   \n",
    "   - Membership Operators : Python membership operators are used to check the membership of value inside a data structure. If the value is present in the data structure, then the resulting value is true otherwise it returns false.\n",
    "   \n",
    "   \n",
    "   - Identity Operators : is and isnot are the identity operators used to return true or false based in the condition."
   ]
  },
  {
   "cell_type": "markdown",
   "metadata": {},
   "source": [
    "[Take a Quiz on PythonBasics](https://docs.google.com/forms/d/e/1FAIpQLSdstMy68JLjAbVFV_kwPaxO5G0KL9TqP1DQWB2JiBVwLg8NrA/viewform?usp=sf_link)"
   ]
  },
  {
   "cell_type": "code",
   "execution_count": null,
   "metadata": {},
   "outputs": [],
   "source": []
  },
  {
   "cell_type": "code",
   "execution_count": null,
   "metadata": {},
   "outputs": [],
   "source": []
  },
  {
   "cell_type": "code",
   "execution_count": null,
   "metadata": {},
   "outputs": [],
   "source": []
  },
  {
   "cell_type": "code",
   "execution_count": null,
   "metadata": {},
   "outputs": [],
   "source": []
  },
  {
   "cell_type": "code",
   "execution_count": null,
   "metadata": {},
   "outputs": [],
   "source": []
  },
  {
   "cell_type": "code",
   "execution_count": null,
   "metadata": {},
   "outputs": [],
   "source": []
  },
  {
   "cell_type": "code",
   "execution_count": null,
   "metadata": {},
   "outputs": [],
   "source": []
  },
  {
   "cell_type": "code",
   "execution_count": null,
   "metadata": {},
   "outputs": [],
   "source": []
  }
 ],
 "metadata": {
  "kernelspec": {
   "display_name": "Python 3",
   "language": "python",
   "name": "python3"
  },
  "language_info": {
   "codemirror_mode": {
    "name": "ipython",
    "version": 3
   },
   "file_extension": ".py",
   "mimetype": "text/x-python",
   "name": "python",
   "nbconvert_exporter": "python",
   "pygments_lexer": "ipython3",
   "version": "3.7.0"
  }
 },
 "nbformat": 4,
 "nbformat_minor": 2
}
